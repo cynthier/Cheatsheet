{
 "cells": [
  {
   "cell_type": "code",
   "execution_count": null,
   "id": "b5b78f7d-7df8-4386-a7ff-ba79b2cae7d7",
   "metadata": {},
   "outputs": [],
   "source": [
    "#### kernal: python3.12_envs"
   ]
  },
  {
   "cell_type": "code",
   "execution_count": 13,
   "id": "53fa3ef1-7f4e-493b-a526-96c6c1a5de1d",
   "metadata": {},
   "outputs": [],
   "source": [
    "import scanpy as sc\n",
    "# pip install NumPy==1.9\n",
    "# pip install -U scvelo\n",
    "import scvelo as scv\n",
    "import sys\n",
    "from functools import wraps\n",
    "import numpy as np\n",
    "import pandas as pd \n",
    "import anndata as ad\n",
    "import cellrank as cr\n",
    "import pickle\n",
    "# import h5py"
   ]
  },
  {
   "cell_type": "code",
   "execution_count": 2,
   "id": "44b33b28-3b63-4674-a039-e3ba9d769b3d",
   "metadata": {},
   "outputs": [],
   "source": [
    "# pip install numpy\n",
    "# pip install pandas \n",
    "# pip install cellrank\n",
    "# pip install anndata"
   ]
  },
  {
   "cell_type": "markdown",
   "id": "b9cf16a4-f557-4709-ab10-ad8a288b931c",
   "metadata": {},
   "source": [
    "#### 1. load seurat data"
   ]
  },
  {
   "cell_type": "code",
   "execution_count": 13,
   "id": "7da3a004-f680-423c-879f-987f0f4ec125",
   "metadata": {},
   "outputs": [],
   "source": [
    "adata_con = sc.read_h5ad(\"/2_Velocity/Obj_Control.h5ad\")\n",
    "adata_con.obs.index = adata_con.obs.barcode2\n",
    "adata_ko = sc.read_h5ad(\"/2_Velocity/Obj_vcl.h5ad\")\n",
    "adata_ko.obs.index = adata_ko.obs.barcode2\n"
   ]
  },
  {
   "cell_type": "code",
   "execution_count": null,
   "id": "4380ef8a-075a-4d4f-b1ce-60b4a90118ab",
   "metadata": {},
   "outputs": [],
   "source": []
  },
  {
   "cell_type": "markdown",
   "id": "b5b4e044-eaa7-4448-b113-10d187184dd7",
   "metadata": {},
   "source": [
    "#### 2. load loom data"
   ]
  },
  {
   "cell_type": "code",
   "execution_count": null,
   "id": "59ab4835-66b5-4d3f-bf3d-d5d81842b00c",
   "metadata": {},
   "outputs": [],
   "source": [
    "path = \"/home/lfliuhku/rawdata/Vcl_ENCC/\"\n",
    "ldata1 = scv.read(path + '/E15.5/E15_5_ENCC_Vcl_control/velocyto/E15_5_ENCC_Vcl_control.loom', cache=True) \n",
    "barcodes = [bc.split(':')[1] for bc in ldata1.obs.index.tolist()]  # split the bc using \":\"\n",
    "ldata1.obs.index = [bc.replace(\"x\", \"-3\") for bc in barcodes]  # add the sample in barcode\n",
    "\n",
    "ldata2 = scv.read(path + '/E15.5/E15_5_ENCC_Vcl_cKO/velocyto/E15_5_ENCC_Vcl_cKO.loom', cache=True) \n",
    "barcodes = [bc.split(':')[1] for bc in ldata2.obs.index.tolist()]  # split the bc using \":\"\n",
    "ldata2.obs.index = [bc.replace(\"x\", \"-4\") for bc in barcodes]  # add the sample in barcode\n",
    "\n",
    "ldata3 = scv.read(path + '/E13.5/YFP_ENCC_control/velocyto/YFP_ENCC_control.loom', cache=True) \n",
    "barcodes = [bc.split(':')[1] for bc in ldata3.obs.index.tolist()]  # split the bc using \":\"\n",
    "ldata3.obs.index = [bc.replace(\"x\", \"-1\") for bc in barcodes]  # add the sample in barcode\n",
    "\n",
    "ldata4 = scv.read(path + '/E13.5/YFP_ENCC_Vcl/velocyto/YFP_ENCC_Vcl.loom', cache=True) \n",
    "barcodes = [bc.split(':')[1] for bc in ldata4.obs.index.tolist()]  # split the bc using \":\"\n",
    "ldata4.obs.index = [bc.replace(\"x\", \"-2\") for bc in barcodes]  # add the sample in barcode\n",
    "\n",
    "ldata1.var_names_make_unique() \n",
    "ldata2.var_names_make_unique() \n",
    "ldata3.var_names_make_unique() \n",
    "ldata4.var_names_make_unique() "
   ]
  },
  {
   "cell_type": "markdown",
   "id": "2a3c2ad7-5f4c-48d0-bd50-18c042cc5af2",
   "metadata": {},
   "source": [
    "#### 3. merge data"
   ]
  },
  {
   "cell_type": "code",
   "execution_count": null,
   "id": "0fb1eae7-a51e-410d-aa43-f9f2fc89b2a5",
   "metadata": {},
   "outputs": [],
   "source": [
    "##### branch A / group data\n",
    "ldata_con = ldata1.concatenate([ldata3])\n",
    "ldata_ko = ldata2.concatenate([ldata4])\n",
    "\n",
    "barcodes = ldata_con.obs.index.tolist()\n",
    "ldata_con.obs.index = [bc[0:18] for bc in barcodes] \n",
    "\n",
    "barcodes = ldata_ko.obs.index.tolist()\n",
    "ldata_ko.obs.index = [bc[0:18] for bc in barcodes] \n",
    "\n",
    "adata_con2 = scv.utils.merge(adata_con, ldata_con)\n",
    "adata_ko2 = scv.utils.merge(adata_ko, ldata_ko)"
   ]
  },
  {
   "cell_type": "code",
   "execution_count": null,
   "id": "45d837a8-ad60-486a-b5bf-2390bc7d94bd",
   "metadata": {},
   "outputs": [],
   "source": [
    "# path = \"/home/lfliuhku/projects/Vcl_mouse/2_trajectory/RNAvelo/\"\n",
    "# with open(\"./outputdata/1_mergerdata.h5\", \"wb\") as file:\n",
    "#     pickle.dump(adata, file)\n",
    "\n",
    "# with h5py.File(path + \"/outputdata/1_mergedata.h5\", 'w') as hdf:\n",
    "#     hdf.create_dataset('adata', data= adata)"
   ]
  },
  {
   "cell_type": "code",
   "execution_count": 103,
   "id": "2a8b6a7f-ce97-4175-be4f-540a74c329a7",
   "metadata": {
    "scrolled": true
   },
   "outputs": [],
   "source": [
    "# ##### visualize the proportion of unspliced and spliced\n",
    "# adata.obs['group']=adata.obs['group'].astype('category').values\n",
    "# scv.pl.proportions(adata, groupby='group')\n",
    "\n",
    "# ##### visualize the proportion of unspliced and spliced\n",
    "# adata.obs['main_celltype']=adata.obs['main_celltype'].astype('category').values\n",
    "# scv.pl.proportions(adata, groupby='main_celltype')"
   ]
  },
  {
   "cell_type": "markdown",
   "id": "0a24139a-ab8f-4035-816e-2dc94bf6559e",
   "metadata": {},
   "source": [
    "#### 4 normalize data"
   ]
  },
  {
   "cell_type": "code",
   "execution_count": 16,
   "id": "5876ea53-c584-4ce8-ac41-79a721d431cf",
   "metadata": {},
   "outputs": [],
   "source": [
    "scv.pp.filter_genes(adata_con2, min_shared_counts=20)\n",
    "scv.pp.normalize_per_cell(adata_con2)\n",
    "scv.pp.filter_genes_dispersion(adata_con2, n_top_genes=2000)\n",
    "scv.pp.log1p(adata_con2)\n",
    "\n",
    "scv.pp.filter_and_normalize(adata_con2) \n",
    "\n",
    "sc.pp.pca(adata_con2) # some na value\n",
    "# np.sum(np.isnan(adata_con2.X))\n",
    "\n",
    "sc.pp.neighbors(adata_con2, n_pcs=30, n_neighbors=30)\n",
    "scv.pp.moments(adata_con2, n_pcs=None, n_neighbors=None)\n",
    "\n",
    "\n",
    "scv.pp.filter_genes(adata_ko2, min_shared_counts=20)\n",
    "scv.pp.normalize_per_cell(adata_ko2)\n",
    "scv.pp.filter_genes_dispersion(adata_ko2, n_top_genes=2000)\n",
    "scv.pp.log1p(adata_ko2)\n",
    "\n",
    "scv.pp.filter_and_normalize(adata_ko2) \n",
    "\n",
    "sc.pp.pca(adata_ko2) # some na value\n",
    "# np.sum(np.isnan(adata_ko2.X))\n",
    "\n",
    "sc.pp.neighbors(adata_ko2, n_pcs=30, n_neighbors=30)\n",
    "scv.pp.moments(adata_ko2, n_pcs=None, n_neighbors=None)"
   ]
  },
  {
   "cell_type": "markdown",
   "id": "8bd9c4f0-a82f-4f88-a6da-5bfee7f53494",
   "metadata": {},
   "source": [
    "#### 5. calculate the velocity"
   ]
  },
  {
   "cell_type": "code",
   "execution_count": null,
   "id": "98717ab2-c3b0-499d-a94f-82e0b924a168",
   "metadata": {},
   "outputs": [],
   "source": [
    "# 使用稳态模型（随机选项）计算RNA速率\n",
    "scv.tl.velocity(adata_con2, mode='stochastic') \n",
    "scv.tl.velocity_graph(adata_con2) \n",
    "\n",
    "scv.tl.velocity(adata_ko2, mode='stochastic') \n",
    "scv.tl.velocity_graph(adata_ko2) \n"
   ]
  },
  {
   "cell_type": "markdown",
   "id": "3f31c963-3d18-425d-bd9d-971f1bf99327",
   "metadata": {},
   "source": [
    "#### 6. visualization (all)"
   ]
  },
  {
   "cell_type": "code",
   "execution_count": 1,
   "id": "c283c8fc-2a53-4d61-9859-903399de050a",
   "metadata": {},
   "outputs": [],
   "source": [
    "\n",
    "##### visualize the proportion of unspliced and spliced\n",
    "adata_con2.obs['final.annotation']=adata_con2.obs['final.annotation'].astype('category').values\n",
    "scv.pl.proportions(adata_con2, groupby='final.annotation')\n",
    "\n",
    "adata_ko2.obs['final.annotation']=adata_ko2.obs['final.annotation'].astype('category').values\n",
    "scv.pl.proportions(adata_ko2, groupby='final.annotation')"
   ]
  },
  {
   "cell_type": "code",
   "execution_count": 2,
   "id": "d3e61258-2e5d-4cdb-89ea-7ced5f234375",
   "metadata": {
    "scrolled": true
   },
   "outputs": [],
   "source": [
    "\n",
    "scv.pl.velocity_embedding_grid(adata_con2, basis='X_umap', color='final.annotation', save='F0_embedding_umap_final.annotation_control.pdf', title='', scale = 1, arrow_size = 3, density = 0.6, arrow_length = 3,legend_loc='none', alpha = 0.2,figsize=[4,5], palette={\"GP\":\"#feb462\",\"BP\":\"#6b853e\", \"Neuroblast\": \"#fdcee6\", \"BranchA\": \"#bca9f5\", \"BranchB\": \"#fac5b3\"})\n",
    "\n",
    "scv.pl.velocity_embedding_grid(adata_ko2, basis='X_umap', color='final.annotation', save='F0_embedding_umap_final.annotation_mutant.pdf', title='', scale = 1, arrow_size = 3, density = 0.6, arrow_length = 3,legend_loc='none',figsize=[4,5], alpha = 0.2, palette={\"GP\":\"#feb462\",\"BP\":\"#6b853e\", \"Neuroblast\": \"#fdcee6\", \"BranchA\": \"#bca9f5\", \"BranchB\": \"#fac5b3\"})\n"
   ]
  },
  {
   "cell_type": "code",
   "execution_count": 3,
   "id": "f7081c2f-39d4-4483-88c3-828d50cbcb19",
   "metadata": {
    "scrolled": true
   },
   "outputs": [],
   "source": [
    "\n",
    "###### control\n",
    "scv.tl.velocity_confidence(adata_con2)\n",
    "\n",
    "velocity_length = adata_con2.obs['velocity_length'].values\n",
    "v_min = np.min(velocity_length)\n",
    "v_max = np.max(velocity_length)\n",
    "velocity_length_scaled = (velocity_length - v_min) / (v_max - v_min)\n",
    "\n",
    "adata_con2.obs['scaled_velocity_length'] = velocity_length_scaled\n",
    "\n",
    "###### ko\n",
    "scv.tl.velocity_confidence(adata_ko2)\n",
    "\n",
    "velocity_length = adata_ko2.obs['velocity_length'].values\n",
    "v_min = np.min(velocity_length)\n",
    "v_max = np.max(velocity_length)\n",
    "velocity_length_scaled = (velocity_length - v_min) / (v_max - v_min)\n",
    "adata_ko2.obs['scaled_velocity_length'] = velocity_length_scaled\n",
    "\n",
    "np.percentile(adata_ko2.obs['scaled_velocity_length'], 98)\n",
    "np.percentile(adata_con2.obs['scaled_velocity_length'], 98)\n",
    "\n",
    "np.percentile(adata_ko2.obs['scaled_velocity_length'], 2)\n",
    "np.percentile(adata_con2.obs['scaled_velocity_length'], 2) \n",
    "\n",
    "scv.pl.scatter(adata_con2, size=40, c=\"scaled_velocity_length\", figsize =(4,5), fontsize=18,cmap='coolwarm', perc=[2, 98], vmin=0, vmax=0.8, title = \"Control: scaled velocity length\")\n",
    "scv.pl.scatter(adata_ko2, size=40, c=\"scaled_velocity_length\", figsize =(4,5), fontsize=18, cmap='coolwarm', perc=[2, 98], vmin=0, vmax=0.8, title = \"Mutant: scaled velocity length\")\n",
    "\n"
   ]
  },
  {
   "cell_type": "code",
   "execution_count": null,
   "id": "d261141e-ee65-4b78-b9d4-3ad23ffb6514",
   "metadata": {},
   "outputs": [],
   "source": []
  }
 ],
 "metadata": {
  "kernelspec": {
   "display_name": "python3.12_envs",
   "language": "python",
   "name": "python3.12_envs"
  },
  "language_info": {
   "codemirror_mode": {
    "name": "ipython",
    "version": 3
   },
   "file_extension": ".py",
   "mimetype": "text/x-python",
   "name": "python",
   "nbconvert_exporter": "python",
   "pygments_lexer": "ipython3",
   "version": "3.12.7"
  }
 },
 "nbformat": 4,
 "nbformat_minor": 5
}
