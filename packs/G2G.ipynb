{
 "cells": [
  {
   "cell_type": "code",
   "execution_count": null,
   "id": "2e13793e",
   "metadata": {},
   "outputs": [],
   "source": [
    "import anndata\n",
    "import numpy as np\n",
    "import seaborn as sb\n",
    "import numpy as np\n",
    "import warnings\n",
    "import matplotlib.pyplot as plt\n",
    "import pandas as pd\n",
    "warnings.filterwarnings(\"ignore\")\n",
    "from genes2genes import Main\n",
    "from genes2genes import ClusterUtils\n",
    "from genes2genes import TimeSeriesPreprocessor\n",
    "from genes2genes import PathwayAnalyser\n",
    "from genes2genes import VisualUtils\n",
    "import optbinning\n",
    "import matplotlib.pyplot as plt\n",
    "import pickle # save the data\n"
   ]
  },
  {
   "cell_type": "markdown",
   "id": "b5a273f6",
   "metadata": {},
   "source": [
    "#### 2. load expression data and create objs"
   ]
  },
  {
   "cell_type": "markdown",
   "id": "763b25a7",
   "metadata": {},
   "source": [
    "# Make sure that each adata object has:\n",
    "# (1) log normalized gene expression in adata.X\n",
    "# (2) pseudotime estimates in adata.obs['time'] "
   ]
  },
  {
   "cell_type": "code",
   "execution_count": null,
   "id": "1396a5b0",
   "metadata": {},
   "outputs": [],
   "source": [
    "\n",
    "adata_ref = anndata.read_h5ad(\"./1_con_BranchA.h5ad\")  # Reference dataset\n",
    "adata_query = anndata.read_h5ad(\"./1_ko_BranchA.h5ad\")  # Query dataset\n",
    "\n",
    "mat_ref = pd.read_csv(\"./1_exp_con_BranchA.csv\")\n",
    "mat_query = pd.read_csv(\"./1_exp_ko_BranchA.csv\")\n",
    "\n",
    "adata_query.X = mat_query.transpose()\n",
    "adata_ref.X = mat_ref.transpose()\n",
    "\n",
    "print(min(adata_ref.obs['time']), max(adata_ref.obs['time']))\n",
    "print(min(adata_query.obs['time']), max(adata_query.obs['time']))\n"
   ]
  },
  {
   "cell_type": "markdown",
   "id": "232cc5be",
   "metadata": {},
   "source": [
    "#### density plot for the pseudotime"
   ]
  },
  {
   "cell_type": "code",
   "execution_count": null,
   "id": "51cd52b6",
   "metadata": {},
   "outputs": [],
   "source": [
    "fig, ax = plt.subplots()  # 创建图形和轴对象\n",
    "sb.kdeplot(\n",
    "    adata_ref.obs['time'], \n",
    "    fill=True, \n",
    "    label='Control', \n",
    "    color='forestgreen', \n",
    "    ax=ax , legend= False\n",
    ")\n",
    "sb.kdeplot(\n",
    "    adata_query.obs['time'], \n",
    "    fill=True, \n",
    "    label='Vcl cKO', \n",
    "    color='midnightblue', \n",
    "    ax=ax, legend= False\n",
    ")\n",
    "\n",
    "ax.tick_params(axis='both', labelsize=14) \n",
    "ax.set_xlabel('Pseudotime', fontsize=16)  \n",
    "ax.set_ylabel('Density', fontsize=16)  \n",
    "ax.legend(fontsize=12)  \n",
    "plt.show()"
   ]
  },
  {
   "cell_type": "markdown",
   "id": "680cd0f8",
   "metadata": {},
   "source": [
    "#### 3. determine the number of discrete time points to align"
   ]
  },
  {
   "cell_type": "code",
   "execution_count": null,
   "id": "802f806f",
   "metadata": {},
   "outputs": [],
   "source": [
    "from optbinning import ContinuousOptimalBinning\n",
    "\n",
    "x = np.asarray(adata_ref.obs.time)\n",
    "optb = ContinuousOptimalBinning(name='time', dtype=\"numerical\")\n",
    "optb.fit(x, x)\n",
    "print(len(optb.splits))\n",
    "\n",
    "x = np.asarray(adata_query.obs.time)\n",
    "optb = ContinuousOptimalBinning(name='time', dtype=\"numerical\")\n",
    "optb.fit(x, x)\n",
    "print(len(optb.splits))\n"
   ]
  },
  {
   "cell_type": "code",
   "execution_count": null,
   "id": "db37c880",
   "metadata": {},
   "outputs": [],
   "source": [
    "n_bins = 10\n",
    "sample = \"final.annotation\"\n",
    "adata_query.obs[\"final.annotation\"].unique\n",
    "\n",
    "# define the joint colormap to use for both reference and query\n",
    "# col = np.array(sb.color_palette('colorblind'))[range(5)]\n",
    "# joint_cmap={'BranchA':col[0], 'Neuroblast':col[1]}\n",
    "joint_cmap = {'BranchA': \"#bca9f5\", 'Neuroblast': \"#fdcee6\", \"BP\":\"#6b853e\"}\n",
    "VisualUtils.plot_pseudotime_dists_with_interpolation_points(adata_ref, adata_query, n_bins)\n",
    "VisualUtils.plot_celltype_barplot(adata_ref, n_bins, sample, joint_cmap, legend=True, plot_cell_counts = True)\n",
    "VisualUtils.plot_celltype_barplot(adata_query, n_bins, sample, joint_cmap, legend=True, plot_cell_counts = True)\n",
    "\n",
    "VisualUtils.plot_celltype_barplot(adata_ref, n_bins, sample, joint_cmap, legend=True)\n",
    "VisualUtils.plot_celltype_barplot(adata_query, n_bins, sample, joint_cmap, legend=True)"
   ]
  },
  {
   "cell_type": "code",
   "execution_count": null,
   "id": "cdcd693d",
   "metadata": {},
   "outputs": [],
   "source": [
    "########### save bindata for each cell\n",
    "time_colname='time'\n",
    "normalize = False\n",
    "annotation_colname = \"final.annotation\"\n",
    "vec = adata_query.obs[\"bin_ids\"]\n",
    "bin_edges = np.linspace(0, 1, num=n_bins)\n",
    "bin_ids = np.digitize(vec, bin_edges, right=False) # use right=True if we don't need 1.0 cell to always be a single last bin \n",
    "\n",
    "info_query = adata_query.obs[['bin_ids', \"time\", \"final.annotation\"]]\n",
    "info_ref = adata_ref.obs[['bin_ids', \"time\", \"final.annotation\"]]\n",
    "\n",
    "info_query.to_csv(\"mutant_time_bin.csv\")\n",
    "info_ref.to_csv(\"control_time_bin.csv\")"
   ]
  },
  {
   "cell_type": "markdown",
   "id": "807fd8df",
   "metadata": {},
   "source": [
    "#### alignment"
   ]
  },
  {
   "cell_type": "code",
   "execution_count": null,
   "id": "7558b21f",
   "metadata": {},
   "outputs": [],
   "source": [
    "import pandas as pd\n",
    "data = pd.read_csv(\"./DEGs.for.alignmnet.csv\", header=None)\n",
    "\n",
    "gene_list = data.iloc[:,0]\n",
    "\n",
    "gene_ref = list(adata_ref.var_names)\n",
    "gene_query = list(adata_query.var_names)\n",
    "genes = list(set(gene_ref) & set(gene_query))\n",
    "# genes = list(set(gene_ref) & set(gene_query) & set(gene_list))\n",
    "print(len(genes), 'genes')"
   ]
  },
  {
   "cell_type": "code",
   "execution_count": null,
   "id": "cd10bfe4",
   "metadata": {},
   "outputs": [],
   "source": [
    "\n",
    "aligner = Main.RefQueryAligner(adata_ref, adata_query, genes, n_bins) \n",
    "aligner.align_all_pairs() "
   ]
  },
  {
   "cell_type": "code",
   "execution_count": null,
   "id": "da7c5c2b",
   "metadata": {},
   "outputs": [],
   "source": [
    "import seaborn as sns\n",
    "import matplotlib.pyplot as plt\n",
    "import numpy as np\n",
    "\n",
    "def plot_alignment_path_on_given_matrix(mat, paths, cmap='viridis', num = 100):\n",
    "    # Convert mat to NumPy array if it's a DataFrame\n",
    "    mat = np.array(mat)  # Ensure mat is a 2D NumPy array\n",
    "    \n",
    "    fig, ax = plt.subplots(1, 1, figsize=(8, 8))\n",
    "    sns.heatmap(mat, square=True, cmap=cmap, ax=ax, cbar=True, annot=False)  # Base heatmap\n",
    "    \n",
    "    # Annotate values greater than 100 with black font\n",
    "    for i in range(mat.shape[0]):\n",
    "        for j in range(mat.shape[1]):\n",
    "            if mat[i, j] > num:  # Only annotate values > 100\n",
    "                ax.text(j + 0.5, i + 0.5, f'{mat[i, j]:.0f}',  # Integer format\n",
    "                        ha='center', va='center', color='black')  # Fixed black color\n",
    "    \n",
    "    # Plot paths\n",
    "    for path in paths: \n",
    "        path_x = [p[0] + 0.5 for p in path]  # Row indices\n",
    "        path_y = [p[1] + 0.5 for p in path]  # Column indices\n",
    "        ax.plot(path_y, path_x, color='white', linewidth=6)\n",
    "    \n",
    "    # Customize labels and appearance\n",
    "    ax.set_xlabel(\"Control\", fontsize=16, fontweight='bold')\n",
    "    ax.set_ylabel(r\"$\\bf{\\it{Vcl}}$ $\\bf{cKO}$\", fontsize=16)\n",
    "    ax.tick_params(axis='both', labelsize=14)\n",
    "    ax.xaxis.tick_top()  # Move x-axis to top\n",
    "    ax.xaxis.set_label_position('top')\n",
    "    \n",
    "    plt.show()  # Display the plot directly\n",
    "\n",
    "\n",
    "average_alignment, alignment_path = ClusterUtils.get_cluster_average_alignments(aligner, aligner.gene_list)\n",
    "mat = ClusterUtils.get_pairwise_match_count_mat(aligner, aligner.gene_list)\n",
    "\n",
    "print('Average Alignment: ', VisualUtils.color_al_str(average_alignment), '(cell-level)')\n",
    "\n",
    "aligner.average_alignment = average_alignment\n",
    "plot_alignment_path_on_given_matrix(paths=[alignment_path], mat=mat, num=1000)"
   ]
  },
  {
   "cell_type": "code",
   "execution_count": null,
   "id": "8150f541",
   "metadata": {},
   "outputs": [],
   "source": [
    "##### gene patterns along trajectory\n",
    "\n",
    "genes = [\"Egr1\", \"E2f1\", \"Klf7\"]\n",
    "for tf in genes:\n",
    "    VisualUtils.plotTimeSeries(tf, aligner, plot_cells=True)\n",
    "    gene_obj = aligner.results_map[tf]\n",
    "    alignment_str = gene_obj.alignment_str\n",
    "    print(tf + \":\" + VisualUtils.color_al_str(alignment_str)) \n"
   ]
  },
  {
   "cell_type": "code",
   "execution_count": null,
   "id": "80db49bd",
   "metadata": {},
   "outputs": [],
   "source": [
    "##### overall alignment \n",
    "df = aligner.get_stat_df()"
   ]
  },
  {
   "cell_type": "markdown",
   "id": "ef8361ef",
   "metadata": {},
   "source": [
    "#### alignment clustering"
   ]
  },
  {
   "cell_type": "code",
   "execution_count": null,
   "id": "710276cc",
   "metadata": {},
   "outputs": [],
   "source": [
    "###### optimized the parameters\n",
    "df.temp = ClusterUtils.run_clustering(aligner, metric='levenshtein', experiment_mode=True) \n",
    "# selected the threshold with higher score but fewer clusters"
   ]
  },
  {
   "cell_type": "code",
   "execution_count": null,
   "id": "f1c1cc07",
   "metadata": {},
   "outputs": [],
   "source": [
    "ClusterUtils.run_clustering(aligner, metric='levenshtein', DIST_THRESHOLD=0.6) \n",
    "ClusterUtils.visualise_clusters(aligner, n_cols = 4, figsize= (10,6))"
   ]
  },
  {
   "cell_type": "code",
   "execution_count": null,
   "id": "f85c9058",
   "metadata": {},
   "outputs": [],
   "source": [
    "ClusterUtils.print_cluster_average_alignments(aligner)"
   ]
  }
 ],
 "metadata": {
  "language_info": {
   "name": "python"
  }
 },
 "nbformat": 4,
 "nbformat_minor": 5
}
